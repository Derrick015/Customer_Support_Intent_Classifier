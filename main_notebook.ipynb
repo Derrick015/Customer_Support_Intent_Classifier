{
 "cells": [
  {
   "cell_type": "code",
   "execution_count": null,
   "id": "38f64867",
   "metadata": {},
   "outputs": [],
   "source": [
    "from google.genai.types import EmbedContentConfig\n",
    "import concurrent.futures\n",
    "from google import genai\n",
    "from google.cloud import bigquery\n",
    "from google.genai.types import EmbedContentConfig\n",
    "from datetime import datetime\n",
    "from src.utils import process_similarity_single_query\n",
    "import pandas as pd\n",
    "import pandas_gbq\n",
    "from sklearn.metrics.pairwise import cosine_similarity\n",
    "import re\n",
    "import os\n",
    "from concurrent.futures import ThreadPoolExecutor, as_completed\n",
    "from tqdm import tqdm\n",
    "import numpy as np\n",
    "from sklearn.cluster import AgglomerativeClustering\n",
    "from sklearn.preprocessing import normalize, MinMaxScaler, StandardScaler\n",
    "import logging\n",
    "import numpy as np\n",
    "from tqdm import tqdm\n",
    "from google.cloud.bigquery_storage import BigQueryReadClient\n",
    "import time\n",
    "import ast\n",
    "\n",
    "\n",
    "bigquery_client = bigquery.Client(project='deron-innovations')\n",
    "bqstorage_client = BigQueryReadClient()\n",
    "project = \"deron-innovations\"\n",
    "location = \"us-central1\"\n",
    "client = genai.Client(vertexai=True, project=project, location=location) \n",
    "\n",
    "def embed_single_query(input_text):\n",
    "    response = client.models.embed_content(\n",
    "        model='gemini-embedding-001',\n",
    "        contents=input_text,\n",
    "        config=EmbedContentConfig(task_type='RETRIEVAL_QUERY'),\n",
    "    )\n",
    "    return [e.values for e in response.embeddings]"
   ]
  },
  {
   "cell_type": "code",
   "execution_count": 2,
   "id": "76a76d33",
   "metadata": {},
   "outputs": [],
   "source": [
    "customer_query = \"help my order has still not arrived what is going on\""
   ]
  },
  {
   "cell_type": "code",
   "execution_count": 5,
   "id": "db15b923",
   "metadata": {},
   "outputs": [],
   "source": [
    "customer_query_emb = embed_single_query(customer_query)"
   ]
  },
  {
   "cell_type": "code",
   "execution_count": 6,
   "id": "17504d9a",
   "metadata": {},
   "outputs": [],
   "source": [
    "# df_samples_embeddings = add_gemini_embeddings(\n",
    "#     df=df_sampled,\n",
    "#     text_column=\"examples\",\n",
    "#     model='gemini-embedding-001',\n",
    "#     task_type='RETRIEVAL_DOCUMENT',\n",
    "#     max_workers=8,\n",
    "#     batch_size=100)"
   ]
  },
  {
   "cell_type": "code",
   "execution_count": 7,
   "id": "76c183fe",
   "metadata": {},
   "outputs": [
    {
     "data": {
      "text/html": [
       "<div>\n",
       "<style scoped>\n",
       "    .dataframe tbody tr th:only-of-type {\n",
       "        vertical-align: middle;\n",
       "    }\n",
       "\n",
       "    .dataframe tbody tr th {\n",
       "        vertical-align: top;\n",
       "    }\n",
       "\n",
       "    .dataframe thead th {\n",
       "        text-align: right;\n",
       "    }\n",
       "</style>\n",
       "<table border=\"1\" class=\"dataframe\">\n",
       "  <thead>\n",
       "    <tr style=\"text-align: right;\">\n",
       "      <th></th>\n",
       "      <th>embedding</th>\n",
       "      <th>document</th>\n",
       "      <th>output</th>\n",
       "    </tr>\n",
       "  </thead>\n",
       "  <tbody>\n",
       "    <tr>\n",
       "      <th>0</th>\n",
       "      <td>[-0.010085145942866802, 0.021591518074274063, ...</td>\n",
       "      <td>The customer wants to stop an order from being...</td>\n",
       "      <td>cancel_order</td>\n",
       "    </tr>\n",
       "    <tr>\n",
       "      <th>1</th>\n",
       "      <td>[-0.022726159542798996, -0.0016650878824293613...</td>\n",
       "      <td>The customer wants money back for an order (fu...</td>\n",
       "      <td>refund_request</td>\n",
       "    </tr>\n",
       "    <tr>\n",
       "      <th>2</th>\n",
       "      <td>[0.0022645192220807076, 0.01177155040204525, -...</td>\n",
       "      <td>The customer is experiencing a problem using t...</td>\n",
       "      <td>technical_issue</td>\n",
       "    </tr>\n",
       "    <tr>\n",
       "      <th>3</th>\n",
       "      <td>[-0.025329837575554848, 0.012980042025446892, ...</td>\n",
       "      <td>The customer wants the status or ETA of a ship...</td>\n",
       "      <td>track_order</td>\n",
       "    </tr>\n",
       "  </tbody>\n",
       "</table>\n",
       "</div>"
      ],
      "text/plain": [
       "                                           embedding  \\\n",
       "0  [-0.010085145942866802, 0.021591518074274063, ...   \n",
       "1  [-0.022726159542798996, -0.0016650878824293613...   \n",
       "2  [0.0022645192220807076, 0.01177155040204525, -...   \n",
       "3  [-0.025329837575554848, 0.012980042025446892, ...   \n",
       "\n",
       "                                            document           output  \n",
       "0  The customer wants to stop an order from being...     cancel_order  \n",
       "1  The customer wants money back for an order (fu...   refund_request  \n",
       "2  The customer is experiencing a problem using t...  technical_issue  \n",
       "3  The customer wants the status or ETA of a ship...      track_order  "
      ]
     },
     "execution_count": 7,
     "metadata": {},
     "output_type": "execute_result"
    }
   ],
   "source": [
    "from chromadb import PersistentClient\n",
    "\n",
    "CHROMA_PATH = \"emb_collection\"\n",
    "COLLECTION = \"sample_avg_embeddings_collection\"\n",
    "\n",
    "client = PersistentClient(path=CHROMA_PATH)\n",
    "col = client.get_collection(COLLECTION)\n",
    "\n",
    "# Fetch all saved items (ids, documents, metadatas, embeddings)\n",
    "all_items = col.get(include=[\"documents\", \"metadatas\", \"embeddings\"])\n",
    "\n",
    "\n",
    "df_avg_embeddings_collection = pd.DataFrame({\n",
    "    'id': all_items['ids'],\n",
    "    'embedding': all_items['embeddings'].tolist(),\n",
    "    'document': all_items['documents'],\n",
    "    'metadatas': all_items['metadatas']\n",
    "})\n",
    "\n",
    "# Extract the 'output' value from each metadata dict and create a new column\n",
    "df_avg_embeddings_collection['output'] = df_avg_embeddings_collection['metadatas'].apply(lambda x: x.get('output') if isinstance(x, dict) else None)\n",
    "df_avg_embeddings_collection.drop(columns=['id','metadatas'], inplace=True)\n",
    "\n",
    "\n",
    "\n",
    "\n",
    "CHROMA_PATH = \"emb_collection\"\n",
    "COLLECTION = \"intent_meaning_collection\"\n",
    "\n",
    "client = PersistentClient(path=CHROMA_PATH)\n",
    "col = client.get_collection(COLLECTION)\n",
    "\n",
    "# Fetch all saved items (ids, documents, metadatas, embeddings)\n",
    "all_items = col.get(include=[\"documents\", \"metadatas\", \"embeddings\"])\n",
    "\n",
    "\n",
    "df_intent_collection = pd.DataFrame({\n",
    "    'id': all_items['ids'],\n",
    "    'embedding': all_items['embeddings'].tolist(),\n",
    "    'document': all_items['documents'],\n",
    "    'metadatas': all_items['metadatas']\n",
    "})\n",
    "\n",
    "# Extract the 'output' value from each metadata dict and create a new column\n",
    "df_intent_collection['output'] = df_intent_collection['metadatas'].apply(lambda x: x.get('output') if isinstance(x, dict) else None)\n",
    "df_intent_collection.drop(columns=['id','metadatas'], inplace=True)\n",
    "df_intent_collection\n"
   ]
  },
  {
   "cell_type": "code",
   "execution_count": 13,
   "id": "d6fe8b61",
   "metadata": {},
   "outputs": [],
   "source": [
    "collections = [\n",
    "    {\n",
    "        'name': 'intent_meaning_collection',\n",
    "        'df': df_intent_collection,          # has columns: output_col, embedding_col, document_col\n",
    "        'output_col': 'output',\n",
    "        'embedding_col': 'embedding',\n",
    "        'document_col': 'document'\n",
    "    },\n",
    "    {\n",
    "        'name': 'sample_avg_embeddings_collection',\n",
    "        'df': df_avg_embeddings_collection,  # has columns: output_col, embedding_col, document_col\n",
    "        'output_col': 'output',\n",
    "        'embedding_col': 'embedding',\n",
    "        'document_col': 'document'\n",
    "    }\n",
    "]"
   ]
  },
  {
   "cell_type": "code",
   "execution_count": 16,
   "id": "4ba01b1a",
   "metadata": {},
   "outputs": [],
   "source": [
    "single_result = process_similarity_single_query(\n",
    "    query_embedding=customer_query_emb,   # list or np.ndarray\n",
    "    collections=collections,           # same schema as used for batch\n",
    "    top_n=5\n",
    ")"
   ]
  },
  {
   "cell_type": "code",
   "execution_count": 23,
   "id": "8ce41d3f",
   "metadata": {},
   "outputs": [],
   "source": [
    "from src.utils import select_best_output_across_collections\n",
    "\n",
    "df_selected = select_best_output_across_collections(\n",
    "    df=single_result,               # output of batch_process_similarity\n",
    "    collections=collections, # same list used earlier; only 'name' needed\n",
    "    criterion='total',   # 'max_top1_margin' | 'max' | 'mean' | 'total'\n",
    "    normalization='l1'          # 'minmax' | 'zscore' | 'l1' | 'l2' | 'sigmoid | None'\n",
    ")"
   ]
  },
  {
   "cell_type": "code",
   "execution_count": null,
   "id": "d93aec38",
   "metadata": {},
   "outputs": [
    {
     "data": {
      "text/plain": [
       "0    Track Order\n",
       "Name: selected_output_clean, dtype: object"
      ]
     },
     "execution_count": 36,
     "metadata": {},
     "output_type": "execute_result"
    }
   ],
   "source": [
    "# Create a mapping dictionary for output labels\n",
    "output_mapping = {\n",
    "    'cancel_order': 'Cancel Order',\n",
    "    'refund_request': 'Refund Request',\n",
    "    'technical_issue': 'Technical Issue',\n",
    "    'track_order': 'Track Order'\n",
    "}\n",
    "\n",
    "# Apply the mapping to create a clean version of the selected output\n",
    "df_selected['selected_output_clean'] = df_selected['selected_output'].map(output_mapping)\n",
    "final_prediction = df_selected['selected_output_clean'][0]\n",
    "final_prediction\n",
    "\n"
   ]
  },
  {
   "cell_type": "code",
   "execution_count": null,
   "id": "b4f748d3",
   "metadata": {},
   "outputs": [],
   "source": [
    "## Visualization of confidence"
   ]
  },
  {
   "cell_type": "code",
   "execution_count": 27,
   "id": "20d27952",
   "metadata": {},
   "outputs": [
    {
     "data": {
      "text/plain": [
       "<module 'src.utils' from 'c:\\\\Users\\\\derri\\\\Documents\\\\GitHub\\\\PolyVector-Classifier\\\\src\\\\utils.py'>"
      ]
     },
     "execution_count": 27,
     "metadata": {},
     "output_type": "execute_result"
    }
   ],
   "source": [
    "import src.utils\n",
    "import importlib\n",
    "importlib.reload(src.utils)"
   ]
  },
  {
   "cell_type": "code",
   "execution_count": null,
   "id": "b76a6475",
   "metadata": {},
   "outputs": [],
   "source": [
    "import streamlit as st\n",
    "from src.utils import plot_selected_collection_top5_plotly\n",
    "\n",
    "# df_selected is the 1-row DataFrame with 'selected_collection' and top-N columns\n",
    "primary = st.get_option('theme.primaryColor')  # optional, to match app theme\n",
    "fig, plot_df = plot_selected_collection_top5_plotly(\n",
    "    df_one_row=df_selected,\n",
    "    normalization=None,   # or 'softmax'/'minmax'/'l1'/'l2'/'zscore'/'sigmoid'\n",
    "    top_n=5,\n",
    "    percent_fmt=True,\n",
    "    title=None,           # or custom string\n",
    "    color=primary         # pass theme color for seamless look\n",
    ")\n",
    "\n",
    "# st.plotly_chart(fig, use_container_width=True)"
   ]
  },
  {
   "cell_type": "code",
   "execution_count": null,
   "id": "ed23196c",
   "metadata": {},
   "outputs": [],
   "source": [
    "# from src.utils import plot_selected_collection_top5_bar\n",
    "# import matplotlib.pyplot as plt\n",
    "\n",
    "# # df_results is your augmented df that includes `selected_collection`\n",
    "\n",
    "# fig, ax, plot_df = plot_selected_collection_top5_bar(\n",
    "#     df_selected,   # pass as a one-row DataFrame\n",
    "#     normalization=None,      # or 'minmax'/'l1'/'l2'/'zscore'/'sigmoid'\n",
    "#     top_n=5,                      # show top 5\n",
    "#     percent_fmt=True              # show as percentages\n",
    "# )\n",
    "# plt.show()\n",
    "\n",
    "# # Optional: inspect the data used for the chart\n",
    "# plot_df"
   ]
  }
 ],
 "metadata": {
  "kernelspec": {
   "display_name": "polyvector_classifier",
   "language": "python",
   "name": "python3"
  },
  "language_info": {
   "codemirror_mode": {
    "name": "ipython",
    "version": 3
   },
   "file_extension": ".py",
   "mimetype": "text/x-python",
   "name": "python",
   "nbconvert_exporter": "python",
   "pygments_lexer": "ipython3",
   "version": "3.11.13"
  }
 },
 "nbformat": 4,
 "nbformat_minor": 5
}
